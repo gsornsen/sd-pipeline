{
 "cells": [
  {
   "cell_type": "code",
   "execution_count": null,
   "id": "547c4a14-9260-4235-a425-9a42b9a0c1d1",
   "metadata": {},
   "outputs": [],
   "source": [
    "from diffusers import StableDiffusionPipeline\n",
    "import torch"
   ]
  },
  {
   "cell_type": "code",
   "execution_count": null,
   "id": "6d305605-5c7b-4cc3-bd3e-9c33e9f4adfc",
   "metadata": {},
   "outputs": [],
   "source": [
    "model_id = \"path_to_model\"\n",
    "# On Inference, it's OK to drop down to half precision to increase speed\n",
    "# for negligible impact on quality\n",
    "pipe = StableDiffusionPipeline.from_pretrained(model_id, torch_dtype=torch.float16).to(\"cuda\")"
   ]
  },
  {
   "cell_type": "code",
   "execution_count": null,
   "id": "bdd7e8b2-0886-4ba1-aba5-6ed201e6504d",
   "metadata": {},
   "outputs": [],
   "source": [
    "prompt = \"<subject> person\"\n",
    "negative_prompt = \"out of frame\"\n",
    "image = pipe(prompt, num_inference_steps=30, guidance_scale=7.5).images[0]"
   ]
  },
  {
   "cell_type": "code",
   "execution_count": null,
   "id": "6be50f70-3bc3-4329-bb58-56b9650ce24c",
   "metadata": {},
   "outputs": [],
   "source": [
    "display(image)"
   ]
  },
  {
   "cell_type": "code",
   "execution_count": null,
   "id": "b3b2ac4a-ce22-4a0e-bcc6-0702ccea8f20",
   "metadata": {},
   "outputs": [],
   "source": []
  },
  {
   "cell_type": "code",
   "execution_count": null,
   "id": "54fee739-8c63-42ec-9969-15e049e50e99",
   "metadata": {},
   "outputs": [],
   "source": []
  },
  {
   "cell_type": "code",
   "execution_count": null,
   "id": "0b072a0f-70e9-4dfe-82bd-c1cdb3c21dcd",
   "metadata": {},
   "outputs": [],
   "source": []
  },
  {
   "cell_type": "code",
   "execution_count": null,
   "id": "8bbcc3cc-37ad-43af-bc33-42457d80b86f",
   "metadata": {},
   "outputs": [],
   "source": [
    "# Either restart the kernel or delete the pipeline to free up that\n",
    "# precious GPU VRAM if you need to continue training.\n",
    "del pipe"
   ]
  }
 ],
 "metadata": {
  "kernelspec": {
   "display_name": "Python 3 (ipykernel)",
   "language": "python",
   "name": "python3"
  },
  "language_info": {
   "codemirror_mode": {
    "name": "ipython",
    "version": 3
   },
   "file_extension": ".py",
   "mimetype": "text/x-python",
   "name": "python",
   "nbconvert_exporter": "python",
   "pygments_lexer": "ipython3",
   "version": "3.10.8"
  }
 },
 "nbformat": 4,
 "nbformat_minor": 5
}
